{
 "cells": [
  {
   "cell_type": "code",
   "execution_count": 3,
   "id": "d3f6b255-0360-41e4-afaa-a7c163f54253",
   "metadata": {},
   "outputs": [],
   "source": [
    "# This script was used on 2023-11-13 to convert \"Non Grocery Packet Timeout/Delivered\" statuses to \n",
    "# their corresponding parts: Pads, Diapers, and Soap & Shower Products\n",
    "# It only added the corresponding Timeout/Delivered Tag based on what was present in the \"Requests\" column\n",
    "# So if a record indicated that someone requested Pads and had a status of \"Non Grocery Packet Delivered\" \n",
    "# then it only added \"Pads Delivered\". After this script ran, we deleted the \n",
    "# \"Non Grocery Packet Timeout/Delivered\" statuses from the field options."
   ]
  },
  {
   "cell_type": "code",
   "execution_count": null,
   "id": "aac50c25-e684-4022-a65f-819bcdd81404",
   "metadata": {},
   "outputs": [],
   "source": [
    "from bam_core.lib.airtable import Airtable\n",
    "import time\n",
    "\n",
    "airtable = Airtable()\n",
    "\n",
    "records = airtable.assistance_requests.all(\n",
    "            fields=[\"Phone Number\", \"Essential Goods Requests?\", \"Essential Goods Requests Status\"],\n",
    "            view=\"Non Grocery Packet View To Clean\",\n",
    ")\n",
    "\n",
    "request_status_mapping = {\n",
    "    \"Pañales de adultos / Adult Diapers / 成人纸尿裤\": {\n",
    "        \"timeout\": \"Adult Diapers Timeout\",\n",
    "        \"delivered\": \"Adult Diapers Delivered\",\n",
    "    },\n",
    "    \"Pañales / Baby Diapers / 婴儿纸尿裤\": {\n",
    "        \"timeout\": \"Baby Diapers Timeout\",\n",
    "        \"delivered\": \"Baby Diapers Delivered\",\n",
    "    },\n",
    "    \"Productos Femenino - Toallitas / Feminine Products - Pads / 卫生巾\": {\n",
    "        \"timeout\": \"Pads Timeout\",\n",
    "        \"delivered\": \"Pads Delivered\",\n",
    "    },\n",
    "    \"Jabón & Productos de baño / Soap & Shower Products / 肥皂和淋浴产品\": {\n",
    "        \"timeout\": \"Soap & Shower Products Timeout\",\n",
    "        \"delivered\": \"Soap & Shower Products Delivered\"\n",
    "    }\n",
    "}\n",
    "\n",
    "for record in records:\n",
    "    id = record['id']\n",
    "    new_statuses = []\n",
    "    requests = record.get('fields', {}).get('Essential Goods Requests?', [])\n",
    "    old_statuses = record.get('fields', {}).get('Essential Goods Requests Status', [])\n",
    "\n",
    "    # lookup new statuses based on what was requested\n",
    "    for request in requests:\n",
    "        if request in request_status_mapping:\n",
    "            if 'Non Grocery Packet Delivered' in old_statuses:\n",
    "                new_statuses.append(request_status_mapping[request][\"delivered\"])\n",
    "            elif 'Non Grocery Packet Timeout' in old_statuses:\n",
    "                new_statuses.append(request_status_mapping[request][\"timeout\"])\n",
    "    # remove any 'Non Grocery Packet' statuses\n",
    "    for status in old_statuses:\n",
    "        if not status.startswith('Non Grocery Packet'):\n",
    "            new_statuses.append(status)\n",
    "    new_statuses = list(set(new_statuses))\n",
    "    print(f\"Changing {id}:{requests} from {old_statuses} to {new_statuses}\")\n",
    "    # uncomment the following line to actually update records\n",
    "    # airtable.assistance_requests.update(id, {'Essential Goods Requests Status': new_statuses})\n",
    "    time.sleep(0.1)\n"
   ]
  }
 ],
 "metadata": {
  "kernelspec": {
   "display_name": "Python 3 (ipykernel)",
   "language": "python",
   "name": "python3"
  },
  "language_info": {
   "codemirror_mode": {
    "name": "ipython",
    "version": 3
   },
   "file_extension": ".py",
   "mimetype": "text/x-python",
   "name": "python",
   "nbconvert_exporter": "python",
   "pygments_lexer": "ipython3",
   "version": "3.9.18"
  }
 },
 "nbformat": 4,
 "nbformat_minor": 5
}
