{
 "cells": [
  {
   "cell_type": "markdown",
   "id": "c6e41613-e5e0-444d-b767-1c3bd42d7caf",
   "metadata": {},
   "source": [
    "# Find Missing Appointments (citas)\n",
    "\n",
    "This notebook can be used to check if there are any missing phone numbers from the expected food distribution list.\n",
    "\n",
    "- To use it, first download the week's airtable view for \"Citas Confirmadas\" as \"data/citas-confirmadas.csv\" \n",
    "- Next, download all the confirmed food appointments from bit.ly/bamappts as \"data/phone_numbers.txt\" \n",
    "- You should now be able to run the notebook now and print out and phone numbers from the confirmed food appointments that aren't in the Airtable view.\n"
   ]
  },
  {
   "cell_type": "code",
   "execution_count": 11,
   "id": "daf13c4e-d91a-45a3-aed3-0485df3413e5",
   "metadata": {},
   "outputs": [],
   "source": [
    "import pandas as pd\n",
    "from bam_core.utils.phone import extract_phone_numbers\n",
    "\n",
    "df = pd.read_csv('data/citas-confirmadas.csv')\n",
    "df = pd.read_csv('data/citas-confirmadas.csv')\n",
    "raw_numbers = open('data/phone_numbers.txt').read()\n",
    "appt_phone_numbers = set(extract_phone_numbers(raw_numbers))\n",
    "airtable_phone_numbers = list(df[\"Phone Number\"])\n",
    "missing_phone_numbers = set(appt_phone_numbers) - set(airtable_phone_numbers)\n",
    "print(\"\\n\".join(list(missing_phone_numbers)))\n"
   ]
  }
 ],
 "metadata": {
  "kernelspec": {
   "display_name": "Python 3 (ipykernel)",
   "language": "python",
   "name": "python3"
  },
  "language_info": {
   "codemirror_mode": {
    "name": "ipython",
    "version": 3
   },
   "file_extension": ".py",
   "mimetype": "text/x-python",
   "name": "python",
   "nbconvert_exporter": "python",
   "pygments_lexer": "ipython3",
   "version": "3.9.18"
  }
 },
 "nbformat": 4,
 "nbformat_minor": 5
}
