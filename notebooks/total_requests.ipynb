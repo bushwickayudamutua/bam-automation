{
 "cells": [
  {
   "cell_type": "markdown",
   "metadata": {},
   "source": [
    "# Report on total number of people served by BAM."
   ]
  },
  {
   "cell_type": "code",
   "execution_count": 1,
   "metadata": {},
   "outputs": [],
   "source": [
    "import pandas as pd\n",
    "\n",
    "from bam_core.lib.airtable import Airtable\n",
    "\n",
    "airtable = Airtable()\n",
    "\n"
   ]
  },
  {
   "cell_type": "code",
   "execution_count": 2,
   "metadata": {},
   "outputs": [],
   "source": [
    "# get all assistance requests records\n",
    "raw_records = airtable.assistance_requests.all()\n"
   ]
  },
  {
   "cell_type": "code",
   "execution_count": 3,
   "metadata": {},
   "outputs": [],
   "source": [
    "# create a dataframe\n",
    "df = pd.DataFrame([r.get('fields') for r in raw_records])"
   ]
  },
  {
   "cell_type": "code",
   "execution_count": 4,
   "metadata": {},
   "outputs": [
    {
     "name": "stderr",
     "output_type": "stream",
     "text": [
      "/var/folders/vx/451m4zcn6t5bxgj6dhb1_pfm0000gn/T/ipykernel_8390/3567665557.py:7: FutureWarning: DataFrame.applymap has been deprecated. Use DataFrame.map instead.\n",
      "  df_g = df[df[request_columns].applymap(lambda x: isinstance(x, list)).any(axis=1)]\n"
     ]
    },
    {
     "data": {
      "text/plain": [
       "(5538, 76)"
      ]
     },
     "execution_count": 4,
     "metadata": {},
     "output_type": "execute_result"
    }
   ],
   "source": [
    "# filter out only those with a request\n",
    "request_columns = [\n",
    "    'Food Requests?',\n",
    "    'Essential Goods Requests?',\n",
    "    'Social Services Requests?',\n",
    "]\n",
    "df_g = df[df[request_columns].applymap(lambda x: isinstance(x, list)).any(axis=1)]\n",
    "\n",
    "\n",
    "# De-duplicate by phone number and get the most recent record by Case # \n",
    "df_pn_g = df_g.sort_values('Case #', ascending=False).drop_duplicates('Phone Number')\n",
    "\n",
    "df_pn_g.shape\n",
    "\n"
   ]
  },
  {
   "cell_type": "code",
   "execution_count": 5,
   "metadata": {},
   "outputs": [
    {
     "name": "stdout",
     "output_type": "stream",
     "text": [
      "5538 households have requested assistance\n",
      "With a total household size: 25470.0\n"
     ]
    }
   ],
   "source": [
    "# report the number of people who have requested groceries\n",
    "print(f\"{df_pn_g.shape[0]} households have requested assistance\")\n",
    "# report their total household size\n",
    "print(f\"With a total household size: {df_pn_g['Household Size'].sum()}\")"
   ]
  },
  {
   "cell_type": "code",
   "execution_count": null,
   "metadata": {},
   "outputs": [],
   "source": []
  }
 ],
 "metadata": {
  "kernelspec": {
   "display_name": "Python 3 (ipykernel)",
   "language": "python",
   "name": "python3"
  },
  "language_info": {
   "codemirror_mode": {
    "name": "ipython",
    "version": 3
   },
   "file_extension": ".py",
   "mimetype": "text/x-python",
   "name": "python",
   "nbconvert_exporter": "python",
   "pygments_lexer": "ipython3",
   "version": "3.9.18"
  }
 },
 "nbformat": 4,
 "nbformat_minor": 4
}
