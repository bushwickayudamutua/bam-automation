{
 "cells": [
  {
   "cell_type": "code",
   "execution_count": 6,
   "id": "38a24a81-21f9-45ed-a91f-82dd7ccc7e43",
   "metadata": {},
   "outputs": [],
   "source": [
    "import pandas as pd\n",
    "from bam_core.constants import FULFILLED_REQUESTS_SHEET_NAME\n",
    "from bam_core.lib.google import GoogleSheets"
   ]
  },
  {
   "cell_type": "code",
   "execution_count": 7,
   "id": "cd225985-366f-45c6-82a1-418d8499a0de",
   "metadata": {},
   "outputs": [],
   "source": [
    "worksheet = GoogleSheets().get_sheet(FULFILLED_REQUESTS_SHEET_NAME, 1)"
   ]
  },
  {
   "cell_type": "code",
   "execution_count": 15,
   "id": "0497e745-7b7e-4b7f-9b28-23f436e8cbcc",
   "metadata": {},
   "outputs": [
    {
     "data": {
      "text/plain": [
       "(45511, 5)"
      ]
     },
     "execution_count": 15,
     "metadata": {},
     "output_type": "execute_result"
    }
   ],
   "source": [
    "df = pd.DataFrame(worksheet.get_all_records())\n",
    "df.shape"
   ]
  },
  {
   "cell_type": "code",
   "execution_count": 13,
   "id": "3597c506-cd43-4c84-b8cb-538cb2d0fdbd",
   "metadata": {},
   "outputs": [
    {
     "data": {
      "text/plain": [
       "(32774, 5)"
      ]
     },
     "execution_count": 13,
     "metadata": {},
     "output_type": "execute_result"
    }
   ],
   "source": [
    "df_uniq = df.drop_duplicates(['Request Type', 'Item', 'Phone Number Hash'])\n",
    "df_uniq.shape"
   ]
  }
 ],
 "metadata": {
  "kernelspec": {
   "display_name": "Python 3 (ipykernel)",
   "language": "python",
   "name": "python3"
  },
  "language_info": {
   "codemirror_mode": {
    "name": "ipython",
    "version": 3
   },
   "file_extension": ".py",
   "mimetype": "text/x-python",
   "name": "python",
   "nbconvert_exporter": "python",
   "pygments_lexer": "ipython3",
   "version": "3.9.20"
  }
 },
 "nbformat": 4,
 "nbformat_minor": 5
}
