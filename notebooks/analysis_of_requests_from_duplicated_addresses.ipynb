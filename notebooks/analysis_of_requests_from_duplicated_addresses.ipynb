{
 "cells": [
  {
   "cell_type": "code",
   "execution_count": 2,
   "id": "40c9e340-4319-4d64-a760-9119117f6881",
   "metadata": {},
   "outputs": [],
   "source": [
    "import pandas as pd\n",
    "\n",
    "from bam_core.lib.airtable import Airtable\n",
    "airtable = Airtable()\n",
    "\n"
   ]
  },
  {
   "cell_type": "code",
   "execution_count": 87,
   "id": "fd81ef4a-445c-44d0-b0ca-c896f92c559f",
   "metadata": {},
   "outputs": [],
   "source": [
    "raw_records = airtable.assistance_requests.all(view='Analysis: Open Grocery Requests by Household', fields=['Building Identification Number', 'Cleaned Address', 'Grocery Factor', 'Case #'])\n",
    "df = pd.DataFrame([r.get(\"fields\") for r in raw_records])\n",
    "num_requests = df.shape[0]\n",
    "total_sets = df['Grocery Factor'].sum()"
   ]
  },
  {
   "cell_type": "code",
   "execution_count": 88,
   "id": "9d0672d1-8bbb-4f2d-b89b-ca4558d99eb1",
   "metadata": {},
   "outputs": [],
   "source": [
    "# identify duplicate BINs\n",
    "df_bin_count = df.groupby('Building Identification Number')['Case #'].count().reset_index(name=\"count\")\n",
    "df_dupe_bins = df_bin_count[df_bin_count[\"count\"] > 1]\n",
    "df[\"Duplicated Building\"] = df[\"Building Identification Number\"].isin(df_dupe_bins[\"Building Identification Number\"].tolist())\n"
   ]
  },
  {
   "cell_type": "code",
   "execution_count": 89,
   "id": "64d2e0c2-7803-4828-a3c6-21a8da5ef806",
   "metadata": {},
   "outputs": [],
   "source": [
    "# identify duplicate addresses\n",
    "df_add_count = df.groupby('Cleaned Address')['Case #'].count().reset_index(name=\"count\")\n",
    "df_dupe_adds = df_add_count[df_add_count[\"count\"] > 1]\n",
    "df[\"Duplicated Address\"] = df[\"Cleaned Address\"].isin(df_dupe_adds[\"Cleaned Address\"].tolist())\n"
   ]
  },
  {
   "cell_type": "code",
   "execution_count": 91,
   "id": "c7c53f28-93db-4512-b27a-1e3b8abbab50",
   "metadata": {},
   "outputs": [
    {
     "data": {
      "text/plain": [
       "Duplicated Building\n",
       "False    0.488412\n",
       "True     0.511588\n",
       "Name: Grocery Factor, dtype: float64"
      ]
     },
     "execution_count": 91,
     "metadata": {},
     "output_type": "execute_result"
    }
   ],
   "source": [
    "# percentage of requests by dupe BINs\n",
    "df.groupby(\"Duplicated Building\")['Grocery Factor'].count() / num_requests"
   ]
  },
  {
   "cell_type": "code",
   "execution_count": 92,
   "id": "701b41ee-bd35-453e-84ea-f0fcdb738b95",
   "metadata": {},
   "outputs": [
    {
     "data": {
      "text/plain": [
       "Duplicated Building\n",
       "False    0.472884\n",
       "True     0.527116\n",
       "Name: Grocery Factor, dtype: float64"
      ]
     },
     "execution_count": 92,
     "metadata": {},
     "output_type": "execute_result"
    }
   ],
   "source": [
    "# percentage of sets by dupe BINs\n",
    "df.groupby(\"Duplicated Building\")['Grocery Factor'].sum() / total_sets"
   ]
  },
  {
   "cell_type": "code",
   "execution_count": 93,
   "id": "c88b35e6-4d57-4e6e-ae80-10955dd2e74d",
   "metadata": {},
   "outputs": [
    {
     "data": {
      "text/plain": [
       "Duplicated Building\n",
       "False    1.639719\n",
       "True     1.744966\n",
       "Name: Grocery Factor, dtype: float64"
      ]
     },
     "execution_count": 93,
     "metadata": {},
     "output_type": "execute_result"
    }
   ],
   "source": [
    "# mean of grocery factor by dupe BINs\n",
    "df.groupby(\"Duplicated Building\")['Grocery Factor'].mean()"
   ]
  },
  {
   "cell_type": "code",
   "execution_count": 94,
   "id": "755b9565-fbcf-4544-be22-35fa2b5fb061",
   "metadata": {},
   "outputs": [
    {
     "data": {
      "text/plain": [
       "0.3375570197668525"
      ]
     },
     "execution_count": 94,
     "metadata": {},
     "output_type": "execute_result"
    }
   ],
   "source": [
    "# estimated decrease in sets if we deduped by BIN\n",
    "1 - (df.groupby('Building Identification Number').first()['Grocery Factor'].sum() / total_sets)"
   ]
  },
  {
   "cell_type": "code",
   "execution_count": 95,
   "id": "4cdcb1cd-ce1d-4dec-8b83-a0fc013495c1",
   "metadata": {},
   "outputs": [
    {
     "data": {
      "text/plain": [
       "0.32789699570815456"
      ]
     },
     "execution_count": 95,
     "metadata": {},
     "output_type": "execute_result"
    }
   ],
   "source": [
    "# estimated decrease in requests if we deduped by BIN\n",
    "1 - (df.groupby('Building Identification Number').first()['Grocery Factor'].count() / num_requests)"
   ]
  },
  {
   "cell_type": "code",
   "execution_count": 97,
   "id": "de82d4be-f0d8-464a-a458-6ff54797e10c",
   "metadata": {},
   "outputs": [
    {
     "data": {
      "text/plain": [
       "<Axes: title={'center': 'Open Requests by Duplicated Building and Grocery Factor'}, xlabel='Grocery Factor'>"
      ]
     },
     "execution_count": 97,
     "metadata": {},
     "output_type": "execute_result"
    },
    {
     "data": {
      "image/png": "[encoded data removed]",
      "text/plain": [
       "<Figure size 640x480 with 1 Axes>"
      ]
     },
     "metadata": {},
     "output_type": "display_data"
    }
   ],
   "source": [
    "df.groupby(['Grocery Factor', \"Duplicated Building\"]).size().unstack().plot(kind='bar', stacked=True, title=\"Open Requests by Duplicated Building and Grocery Factor\")"
   ]
  },
  {
   "cell_type": "code",
   "execution_count": 98,
   "id": "fb451889-a235-48c9-9035-fdf0d81db652",
   "metadata": {},
   "outputs": [
    {
     "data": {
      "text/plain": [
       "Duplicated Address\n",
       "False    0.791416\n",
       "True     0.208584\n",
       "Name: Grocery Factor, dtype: float64"
      ]
     },
     "execution_count": 98,
     "metadata": {},
     "output_type": "execute_result"
    }
   ],
   "source": [
    "# percentage of requests by dupe ADDs\n",
    "df.groupby(\"Duplicated Address\")['Grocery Factor'].count() / num_requests"
   ]
  },
  {
   "cell_type": "code",
   "execution_count": 99,
   "id": "03c0a354-ed21-4a77-882a-e600de926c84",
   "metadata": {},
   "outputs": [
    {
     "data": {
      "text/plain": [
       "Duplicated Address\n",
       "False    0.787633\n",
       "True     0.212367\n",
       "Name: Grocery Factor, dtype: float64"
      ]
     },
     "execution_count": 99,
     "metadata": {},
     "output_type": "execute_result"
    }
   ],
   "source": [
    "# percentage of sets by dupe ADDs\n",
    "df.groupby(\"Duplicated Address\")['Grocery Factor'].sum() / total_sets"
   ]
  },
  {
   "cell_type": "code",
   "execution_count": 100,
   "id": "045f6060-1ca9-4202-b7ef-1da092097eeb",
   "metadata": {},
   "outputs": [
    {
     "data": {
      "text/plain": [
       "Duplicated Address\n",
       "False    1.685466\n",
       "True     1.724280\n",
       "Name: Grocery Factor, dtype: float64"
      ]
     },
     "execution_count": 100,
     "metadata": {},
     "output_type": "execute_result"
    }
   ],
   "source": [
    "# mean of grocery factor by dupe ADDs\n",
    "df.groupby(\"Duplicated Address\")['Grocery Factor'].mean()"
   ]
  },
  {
   "cell_type": "code",
   "execution_count": 101,
   "id": "85b1fb0c-1205-4f61-ac60-292a63baffbc",
   "metadata": {},
   "outputs": [
    {
     "data": {
      "text/plain": [
       "0.12569690826153068"
      ]
     },
     "execution_count": 101,
     "metadata": {},
     "output_type": "execute_result"
    }
   ],
   "source": [
    "# estimated decrease in sets if we deduped by address\n",
    "1 - (df.groupby('Cleaned Address').first()['Grocery Factor'].sum() / total_sets)"
   ]
  },
  {
   "cell_type": "code",
   "execution_count": 102,
   "id": "5caa009a-2670-4e43-9a64-8f75105a48cd",
   "metadata": {},
   "outputs": [
    {
     "data": {
      "text/plain": [
       "0.1278969957081545"
      ]
     },
     "execution_count": 102,
     "metadata": {},
     "output_type": "execute_result"
    }
   ],
   "source": [
    "# estimated decrease in requests if we deduped by address\n",
    "1 - (df.groupby('Cleaned Address').first()['Grocery Factor'].count() / num_requests)"
   ]
  },
  {
   "cell_type": "code",
   "execution_count": 103,
   "id": "bfd0256f-5f30-456a-b8b8-60a7d8b073d8",
   "metadata": {},
   "outputs": [
    {
     "data": {
      "text/plain": [
       "<Axes: title={'center': 'Open Requests by Duplicated Address and Grocery Factor'}, xlabel='Grocery Factor'>"
      ]
     },
     "execution_count": 103,
     "metadata": {},
     "output_type": "execute_result"
    },
    {
     "data": {
      "image/png": "[encoded data removed]",
      "text/plain": [
       "<Figure size 640x480 with 1 Axes>"
      ]
     },
     "metadata": {},
     "output_type": "display_data"
    }
   ],
   "source": [
    "df.groupby(['Grocery Factor', \"Duplicated Address\"]).size().unstack().plot(kind='bar', stacked=True, title=\"Open Requests by Duplicated Address and Grocery Factor\")\n"
   ]
  }
 ],
 "metadata": {
  "kernelspec": {
   "display_name": "Python 3 (ipykernel)",
   "language": "python",
   "name": "python3"
  },
  "language_info": {
   "codemirror_mode": {
    "name": "ipython",
    "version": 3
   },
   "file_extension": ".py",
   "mimetype": "text/x-python",
   "name": "python",
   "nbconvert_exporter": "python",
   "pygments_lexer": "ipython3",
   "version": "3.9.18"
  }
 },
 "nbformat": 4,
 "nbformat_minor": 5
}
