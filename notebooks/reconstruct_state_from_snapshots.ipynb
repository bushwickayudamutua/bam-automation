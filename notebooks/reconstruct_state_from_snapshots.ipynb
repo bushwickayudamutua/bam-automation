{
 "cells": [
  {
   "cell_type": "code",
   "execution_count": 23,
   "id": "7378e1fb-8a9f-49f7-9f16-64f9f001ada7",
   "metadata": {},
   "outputs": [],
   "source": [
    "from bam_core.functions.analyze_fulfilled_requests import AnalyzeFulfilledRequests\n",
    "from bam_core.lib.airtable import Airtable"
   ]
  },
  {
   "cell_type": "code",
   "execution_count": 25,
   "id": "ef99ad2a-8e49-4b7a-9126-b812e8b27be5",
   "metadata": {},
   "outputs": [],
   "source": [
    "airtable = Airtable()"
   ]
  },
  {
   "cell_type": "code",
   "execution_count": 4,
   "id": "a77ce9e1-128a-45ea-85af-619bd0f58d43",
   "metadata": {},
   "outputs": [
    {
     "name": "stderr",
     "output_type": "stream",
     "text": [
      "[INFO] - 10:12:31 -> Fetching snapshots from Digital Ocean Space...\n"
     ]
    }
   ],
   "source": [
    "grouped_records = AnalyzeFulfilledRequests().get_grouped_records()"
   ]
  },
  {
   "cell_type": "code",
   "execution_count": 11,
   "id": "32221b09-5308-4ab2-a311-ed4e293dc702",
   "metadata": {},
   "outputs": [],
   "source": [
    "record_ids_to_change = set()"
   ]
  },
  {
   "cell_type": "code",
   "execution_count": 35,
   "id": "dae80b06-fa95-4ded-aa9f-5a548e0d6cc9",
   "metadata": {},
   "outputs": [],
   "source": [
    "for record_id, records in grouped_records.items():\n",
    "    last_record = {}\n",
    "    for record in sorted(records, key=lambda x: x['Snapshot Date']):\n",
    "        ss_requests = last_record.get('Social Services Requests?', [])\n",
    "        eg_requests = record.get('Essential Goods Requests?', [])\n",
    "        if any([req.startswith('Ropa') for req in eg_requests]): \n",
    "            if any([req.startswith('Historical: Asistencia de Ropa') for req in ss_requests]):\n",
    "                record_ids_to_change.add(record_id)\n",
    "        last_record = record"
   ]
  },
  {
   "cell_type": "code",
   "execution_count": 36,
   "id": "6d8ba24d-7a15-4c9e-818d-a37c63cc6f0e",
   "metadata": {},
   "outputs": [],
   "source": [
    "clothing_tag = 'Ropa / Clothing / 服装协助'\n",
    "ss_tag = 'Historical: Asistencia de Ropa / Clothing Assistance'"
   ]
  },
  {
   "cell_type": "code",
   "execution_count": null,
   "id": "3df20ca7-c1cc-414f-a3c7-c1e23964cdeb",
   "metadata": {},
   "outputs": [],
   "source": [
    "for record_id in list(record_ids_to_change):\n",
    "    record = airtable.assistance_requests.get(record_id)\n",
    "    eg_requests = record.get('fields', {}).get('Essential Goods Requests?', [])\n",
    "    ss_requests = record.get('fields', {}).get('Social Services Requests?', [])\n",
    "    if clothing_tag in eg_requests and ss_tag not in ss_requests:\n",
    "        eg_requests.remove(clothing_tag)\n",
    "        ss_requests.append(ss_tag)\n",
    "        assert clothing_tag not in eg_requests\n",
    "        assert ss_tag in ss_requests\n",
    "        airtable.assistance_requests.update(record_id, {'Essential Goods Requests?': eg_requests, 'Social Services Requests?': ss_requests})"
   ]
  }
 ],
 "metadata": {
  "kernelspec": {
   "display_name": "Python 3 (ipykernel)",
   "language": "python",
   "name": "python3"
  },
  "language_info": {
   "codemirror_mode": {
    "name": "ipython",
    "version": 3
   },
   "file_extension": ".py",
   "mimetype": "text/x-python",
   "name": "python",
   "nbconvert_exporter": "python",
   "pygments_lexer": "ipython3",
   "version": "3.9.18"
  }
 },
 "nbformat": 4,
 "nbformat_minor": 5
}
