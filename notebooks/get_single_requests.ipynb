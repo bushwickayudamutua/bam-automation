{
 "cells": [
  {
   "cell_type": "markdown",
   "metadata": {},
   "source": [
    "# Report on people with single open request for pads or diapers."
   ]
  },
  {
   "cell_type": "code",
   "execution_count": 2,
   "metadata": {},
   "outputs": [],
   "source": [
    "import pandas as pd\n",
    "\n",
    "from bam_core.lib.airtable import Airtable\n",
    "\n",
    "airtable = Airtable()\n",
    "\n"
   ]
  },
  {
   "cell_type": "code",
   "execution_count": 3,
   "metadata": {},
   "outputs": [],
   "source": [
    "# get all assistance requests records\n",
    "raw_records = airtable.assistance_requests.all()\n"
   ]
  },
  {
   "cell_type": "code",
   "execution_count": 4,
   "metadata": {},
   "outputs": [],
   "source": [
    "# create a dataframe\n",
    "df = pd.DataFrame([r.get('fields') for r in raw_records])"
   ]
  },
  {
   "cell_type": "code",
   "execution_count": 6,
   "metadata": {},
   "outputs": [],
   "source": [
    "from collections import Counter\n",
    "\n",
    "# get all phone numbers w/ one open request\n",
    "single_req_pns = {k for k, v in Counter(df['Phone Number']).items() if v == 1}\n",
    "\n",
    "# pull open pad/diaper request views\n",
    "pad_view = airtable.assistance_requests.all(view='P2W - Open Pads Requests')\n",
    "diaper_view = airtable.assistance_requests.all(view='P2W - Open Baby Diaper Requests')\n",
    "\n",
    "pad_df = pd.DataFrame([r.get('fields') for r in pad_view])\n",
    "diaper_df = pd.DataFrame([r.get('fields') for r in diaper_view])\n",
    "\n",
    "# pull all requests from pad/diaper request views with phone number from single reqs list\n",
    "def get_single_req_pns(df):\n",
    "    phones = set(df['Phone Number'])\n",
    "    return phones & single_req_pns\n",
    "\n",
    "pad_single_req_pns = get_single_req_pns(pad_df)\n",
    "diaper_single_req_pns = get_single_req_pns(diaper_df)"
   ]
  },
  {
   "cell_type": "code",
   "execution_count": 20,
   "metadata": {},
   "outputs": [
    {
     "name": "stdout",
     "output_type": "stream",
     "text": [
      "492\n",
      "164\n"
     ]
    }
   ],
   "source": [
    "# write all single requests to csv\n",
    "df[df['Phone Number'].isin(pad_single_req_pns - diaper_single_req_pns)].to_csv('pad_single_reqs.csv')\n",
    "df[df['Phone Number'].isin(diaper_single_req_pns - pad_single_req_pns)].to_csv('diaper_single_reqs.csv')\n",
    "df[df['Phone Number'].isin(pad_single_req_pns & diaper_single_req_pns)].to_csv('pad_and_diaper_single_reqs.csv')"
   ]
  }
 ],
 "metadata": {
  "kernelspec": {
   "display_name": "Python 3 (ipykernel)",
   "language": "python",
   "name": "python3"
  },
  "language_info": {
   "codemirror_mode": {
    "name": "ipython",
    "version": 3
   },
   "file_extension": ".py",
   "mimetype": "text/x-python",
   "name": "python",
   "nbconvert_exporter": "python",
   "pygments_lexer": "ipython3",
   "version": "3.11.4"
  }
 },
 "nbformat": 4,
 "nbformat_minor": 4
}
